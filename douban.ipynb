{
 "cells": [
  {
   "attachments": {},
   "cell_type": "markdown",
   "metadata": {},
   "source": [
    "# Douban Crawler"
   ]
  },
  {
   "attachments": {},
   "cell_type": "markdown",
   "metadata": {},
   "source": [
    "## Import requests and beautifulsoup\n"
   ]
  },
  {
   "cell_type": "code",
   "execution_count": 1,
   "metadata": {},
   "outputs": [],
   "source": [
    "# -*- coding: utf-8 -*-\n",
    "\"\"\"\n",
    "Crawler\n",
    "\n",
    "@author: \n",
    "\"\"\"\n",
    "import requests\n",
    "from bs4 import BeautifulSoup\n",
    "import re"
   ]
  },
  {
   "attachments": {},
   "cell_type": "markdown",
   "metadata": {},
   "source": [
    "## Set headers and send GET request"
   ]
  },
  {
   "cell_type": "code",
   "execution_count": 2,
   "metadata": {},
   "outputs": [],
   "source": [
    "\n",
    "headers = {'User-Agent': 'Mozilla/5.0 (Windows NT 10.0; Win64; x64) AppleWebKit/537.36 (KHTML, like Gecko) Chrome/78.0.3904.108 Safari/537.36'}\n",
    "r = requests.get('https://book.douban.com/subject/1084336/comments/', headers = headers)"
   ]
  },
  {
   "attachments": {},
   "cell_type": "markdown",
   "metadata": {},
   "source": [
    "\n",
    "## Extract content from html"
   ]
  },
  {
   "cell_type": "code",
   "execution_count": 3,
   "metadata": {},
   "outputs": [],
   "source": [
    "# complete the code in this cell\n",
    "contents = []\n",
    "soup = BeautifulSoup(r.text, 'lxml')\n",
    "\n",
    "# your code here\n",
    "comment_items = soup.find_all('li',class_ = 'comment-item')\n",
    "\n",
    "#include user name, post time, stars and comments\n",
    "for comment_item in comment_items:\n",
    "    # username\n",
    "    username = comment_item.find('a').get('title')\n",
    "\n",
    "    # time\n",
    "    time = comment_item.find('a',class_ =\"comment-time\").text\n",
    "\n",
    "    # star\n",
    "    stars_element = comment_item.find('span',class_ = re.compile(r'user-stars.*rating'))\n",
    "    if stars_element is not None:\n",
    "        stars_class = stars_element.get('class')\n",
    "        stars = stars_class[1].replace('allstar','')\n",
    "    else:\n",
    "        stars = None\n",
    "\n",
    "    # comment\n",
    "    comment =  comment_item.find('span',class_ =\"short\").text\n",
    "\n",
    "    contents.append({'user':username,'time':time,'stars':stars,'comment':comment})\n"
   ]
  },
  {
   "attachments": {},
   "cell_type": "markdown",
   "metadata": {},
   "source": [
    "## Print results"
   ]
  },
  {
   "cell_type": "code",
   "execution_count": 4,
   "metadata": {},
   "outputs": [
    {
     "name": "stdout",
     "output_type": "stream",
     "text": [
      "眠去 2007-02-08 11:16:40 50 十几岁的时候渴慕着小王子，一天之间可以看四十四次日落。是在多久之后才明白，看四十四次日落的小王子，他有多么难过。\n",
      "小岩井 2012-01-09 14:55:31 None 读了好多年，终于读完了，但是实在共鸣不起来，虽然知道那些道理，但真的觉得没什么了不起啊，是我还太幼稚吗？\n",
      "自在渍 2012-09-01 20:44:35 50 我的玫瑰花儿，只有四个微不足道的刺，用来抵御这个世界。\n",
      "黛安Diane 2009-12-22 11:36:19 50 说实话 我看不太懂 但还是跟风给个5星吧 以显示我也是有思想有学识之人\n",
      "菱夏 2015-09-23 15:01:18 30 虽然我实在幼稚，但我并不怎么喜欢孩童般的纯净，我只爱风浪过后的平静，流水打磨出的清亮，大雪纷飞时的安宁，沧桑看透的纯真，我爱眼冷心热的庄子，人究竟无所逃于天地之间，各适其性，做自己认为有意义的事就好了，无论是统治宇宙还是喝酒点灯，对他们来说，都比爱一朵玫瑰重要，这不是很好的么\n",
      "北溟鱼 2007-12-15 20:27:27 None 不能理解的是，為什么它忽然紅成這樣？\n",
      "陳蘇蘇二逼人生 2011-08-14 01:59:16 50 一边读一边很想哭。太寂寞了。人类真的太寂寞了。\n",
      "萌塔 C-137 2010-04-29 09:38:38 50 是你浪费在我身上的时间 使我变得 如此珍贵\n",
      "momo 2012-11-15 23:45:25 50 如果你是小王子，我就是那捉鸡的狐狸，求你驯养了我，却又对你说要你回去对你的玫瑰花负责。还大方地以为只要看见了麦田就会想起你头发的颜色。我却永远无法随你回到B-612星球。现在觉得，我可能只是猴面包树而已。\n",
      "蛇 2009-11-25 03:40:45 40 狐狸告诉小王子的秘密是：用心去看才看得清楚；是分离让小王子更思念他的玫瑰；爱就是责任。 \n",
      "\n",
      "杜边生 2007-12-09 03:10:28 None 我老觉得小狐狸跟小王子是在搞GAY\n",
      "暴走系乙女药 2012-01-30 14:42:06 40 原来在我还不懂爱情的时候就爱上了你\n",
      "Cassie 2015-10-07 23:59:34 20 痛苦迷茫不是因为成为了“可笑”的大人，而是成为大人却没有真正长大。所以回过头来想要从怀念童年中解脱缓解痛苦那是本末倒置的做法。如果你作为一个成年人觉得痛苦，原因不是因为你“成年”了，也不是因为是生而为“人”，而是“你”停止了思考停止了学习。\n",
      "猫伯爵 2011-02-04 06:43:28 50 他像一颗树那样倒了下去\n",
      "7酱™ 2011-11-12 13:10:01 50 第一遍读时，我才4岁。等到真的读懂，才明白为什么这是一部“童话”。\n",
      "一只麦麦 2011-11-04 09:19:34 40 It is the time you have wasted for your rose that makes your rose so important.\n",
      "[已注销] 2012-04-27 15:36:14 50 爱屋及乌，爱一个人会让周围的一切变得美好，连麦浪的金黄都会让人心醉。 \n",
      "　　　　 \n",
      "　　　　爱同样意味着责任。因为“你现在要对你驯服过的一切负责到底”。爱与被爱都有责任，每一段我们曾经付出过的感情，都必须为对方，为爱情负责，不是吗？ \n",
      "　　　　 \n",
      "　　　　爱很多时候又会面临失去。小王子离开的时候，对狐狸说“那么你什么好处也没得到”。狐狸回答：“由于麦子颜色的缘故，我还是得到了好处”。爱同样意味着宽容，意味着放弃，也许我们在面对渐行渐远的爱情，该抱着平和感激的心态，因为我们起码收获了麦浪的金黄！ \n",
      "　　　　 \n",
      "　　　　狐狸同样告诉小王子，“只有用心才能看得清。实质性的东西，用眼睛是看不见的”。只有这样，才能让我看清爱的本质。 \n",
      "　　　　 \n",
      "　　　　爱是什么？ \n",
      "　　　　 \n",
      "　　\n",
      "晚回舟 2011-10-06 20:15:06 50 狐狸再好又有什么用，他还是爱玫瑰花\n",
      "齐鲁矿业李德友 2015-10-16 22:24:58 40 你要非常有耐心，”狐狸说，“首先，你要在离我有点远的地方坐下，就像这样，坐在草地上。我会偷偷地看你，你不要说话。语言是误解的根源。但你每天都要坐得离我更近一点\n",
      "E 2010-06-06 11:25:19 50 漫山遍野的玫瑰，但真的，我最喜欢最初的那一朵，带刺儿的那一朵。我能不能回去继续浇灌那朵玫瑰⋯⋯\n"
     ]
    }
   ],
   "source": [
    "for item in contents:\n",
    "    print(item[\"user\"], item[\"time\"], item[\"stars\"], item[\"comment\"])"
   ]
  }
 ],
 "metadata": {
  "kernelspec": {
   "display_name": "base",
   "language": "python",
   "name": "python3"
  },
  "language_info": {
   "codemirror_mode": {
    "name": "ipython",
    "version": 3
   },
   "file_extension": ".py",
   "mimetype": "text/x-python",
   "name": "python",
   "nbconvert_exporter": "python",
   "pygments_lexer": "ipython3",
   "version": "3.10.9"
  },
  "orig_nbformat": 4
 },
 "nbformat": 4,
 "nbformat_minor": 2
}
